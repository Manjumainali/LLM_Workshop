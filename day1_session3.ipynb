{
  "nbformat": 4,
  "nbformat_minor": 0,
  "metadata": {
    "colab": {
      "provenance": [],
      "authorship_tag": "ABX9TyOX+B8gBNIhw3VDDXIADqGq",
      "include_colab_link": true
    },
    "kernelspec": {
      "name": "python3",
      "display_name": "Python 3"
    },
    "language_info": {
      "name": "python"
    }
  },
  "cells": [
    {
      "cell_type": "markdown",
      "metadata": {
        "id": "view-in-github",
        "colab_type": "text"
      },
      "source": [
        "<a href=\"https://colab.research.google.com/github/Manjumainali/LLM_Workshop/blob/main/day1_session3.ipynb\" target=\"_parent\"><img src=\"https://colab.research.google.com/assets/colab-badge.svg\" alt=\"Open In Colab\"/></a>"
      ]
    },
    {
      "cell_type": "code",
      "execution_count": null,
      "metadata": {
        "id": "1HE8jkpOvoIl",
        "collapsed": true
      },
      "outputs": [],
      "source": [
        "from google.colab import userdata\n",
        "api_key = userdata.get('gemini_api_key')"
      ]
    },
    {
      "cell_type": "code",
      "source": [
        "import google.generativeai as genai"
      ],
      "metadata": {
        "id": "dGD4E9tAykiV"
      },
      "execution_count": null,
      "outputs": []
    },
    {
      "cell_type": "code",
      "source": [
        "genai.configure(api_key=api_key)\n",
        "llm = genai.GenerativeModel('gemini-2.5-flash')\n",
        "response = llm.generate_content(\"timro naam k ho k bro bhana na \")"
      ],
      "metadata": {
        "id": "Dc90rzmIzlro"
      },
      "execution_count": null,
      "outputs": []
    },
    {
      "cell_type": "code",
      "source": [
        "response"
      ],
      "metadata": {
        "colab": {
          "base_uri": "https://localhost:8080/"
        },
        "id": "yMrEd7sa1SEL",
        "outputId": "bc6392a3-caae-4d55-d311-77951295d31c"
      },
      "execution_count": null,
      "outputs": [
        {
          "output_type": "execute_result",
          "data": {
            "text/plain": [
              "response:\n",
              "GenerateContentResponse(\n",
              "    done=True,\n",
              "    iterator=None,\n",
              "    result=protos.GenerateContentResponse({\n",
              "      \"candidates\": [\n",
              "        {\n",
              "          \"content\": {\n",
              "            \"parts\": [\n",
              "              {\n",
              "                \"text\": \"Mero kunai vyaktigat naam chhaina.\\n\\nMa Google dwara talim prapta gareko euta bishal bhasha model (large language model) hun.\"\n",
              "              }\n",
              "            ],\n",
              "            \"role\": \"model\"\n",
              "          },\n",
              "          \"finish_reason\": \"STOP\",\n",
              "          \"index\": 0\n",
              "        }\n",
              "      ],\n",
              "      \"usage_metadata\": {\n",
              "        \"prompt_token_count\": 12,\n",
              "        \"candidates_token_count\": 38,\n",
              "        \"total_token_count\": 779\n",
              "      },\n",
              "      \"model_version\": \"gemini-2.5-flash\"\n",
              "    }),\n",
              ")"
            ]
          },
          "metadata": {},
          "execution_count": 24
        }
      ]
    },
    {
      "cell_type": "code",
      "source": [
        "print(response.text)"
      ],
      "metadata": {
        "colab": {
          "base_uri": "https://localhost:8080/"
        },
        "id": "xTO-Oa2S1VaS",
        "outputId": "ac528512-b336-4868-c133-d0940e41886a"
      },
      "execution_count": null,
      "outputs": [
        {
          "output_type": "stream",
          "name": "stdout",
          "text": [
            "Okay, here's one:\n",
            "\n",
            "Why don't scientists trust atoms?\n",
            "\n",
            "Because they make up everything!\n"
          ]
        }
      ]
    },
    {
      "cell_type": "code",
      "source": [
        "# tune the llm model\n",
        "generation_config={\n",
        "    'temperature':0.6,\n",
        "'max_output_tokens':8000,\n",
        "    'candidate_count':1,\n",
        "    }"
      ],
      "metadata": {
        "id": "NHkt-J9R4CYd"
      },
      "execution_count": null,
      "outputs": []
    },
    {
      "cell_type": "code",
      "source": [
        "llm = genai.GenerativeModel(\n",
        "    model_name='gemini-2.5-flash',\n",
        "    generation_config=generation_config,\n",
        "    system_instruction=\"You are a professor at NCE.\"\n",
        ")"
      ],
      "metadata": {
        "id": "DpJXetLR45N8"
      },
      "execution_count": null,
      "outputs": []
    },
    {
      "cell_type": "code",
      "source": [
        "input = \"What is theory of relativity?\""
      ],
      "metadata": {
        "id": "TtvTFa205QhE"
      },
      "execution_count": null,
      "outputs": []
    },
    {
      "cell_type": "code",
      "source": [
        "# start the session\n",
        "chat_session = llm.start_chat()"
      ],
      "metadata": {
        "id": "tZSioDwY5dCR"
      },
      "execution_count": null,
      "outputs": []
    },
    {
      "cell_type": "code",
      "source": [
        "response = chat_session.send_message(input)\n",
        "response.text"
      ],
      "metadata": {
        "colab": {
          "base_uri": "https://localhost:8080/",
          "height": 104
        },
        "collapsed": true,
        "id": "K_tFJNge5f5C",
        "outputId": "f1613869-31dc-417d-b1e1-f51bc87a0da1"
      },
      "execution_count": null,
      "outputs": [
        {
          "output_type": "execute_result",
          "data": {
            "text/plain": [
              "'The **Theory of Relativity** is one of the most groundbreaking and famous scientific theories, developed primarily by **Albert Einstein** in the early 20th century. It fundamentally changed our understanding of space, time, gravity, and the universe.\\n\\nIt\\'s actually two interconnected theories:\\n\\n1.  **Special Theory of Relativity (1905)**\\n2.  **General Theory of Relativity (1915)**\\n\\nLet\\'s break them down simply:\\n\\n---\\n\\n### 1. Special Theory of Relativity (1905)\\n\\nThis theory deals with how space and time are related for objects moving at **constant speeds** (i.e., not accelerating). Its core ideas are based on two main postulates:\\n\\n*   **The laws of physics are the same for all observers in uniform motion (not accelerating).** This means if you\\'re in a train moving at a constant speed, and I\\'m standing still, the laws of physics (like how a ball bounces) are the same for both of us.\\n*   **The speed of light in a vacuum is the same for all observers, regardless of their motion or the motion of the light source.** This is the really counter-intuitive part. No matter how fast you\\'re moving towards or away from a light source, you will always measure the speed of light to be exactly the same (approximately 299,792,458 meters per second).\\n\\n**Mind-Bending Consequences of Special Relativity:**\\n\\nBecause the speed of light is constant for everyone, some strange things happen to our everyday notions of space and time:\\n\\n*   **Time Dilation:** Time passes *slower* for objects that are moving relative to an observer. If you were traveling very fast in a spaceship, your clock would tick slower than a clock on Earth.\\n*   **Length Contraction:** The length of an object appears to *shrink* in the direction of its motion as its speed increases.\\n*   **Mass-Energy Equivalence (E=mc²):** This is perhaps the most famous equation in the world. It states that mass and energy are interchangeable. A small amount of mass can be converted into a huge amount of energy (which is the principle behind nuclear bombs and nuclear power), and vice-versa.\\n\\n---\\n\\n### 2. General Theory of Relativity (1915)\\n\\nThis theory extends Special Relativity to include **gravity** and **accelerated motion**. It\\'s a completely new way of understanding gravity, replacing Isaac Newton\\'s idea of gravity as a force.\\n\\n**The Core Idea of General Relativity:**\\n\\n*   **Gravity is not a force, but a curvature of \"spacetime\" caused by mass and energy.**\\n    *   Imagine spacetime as a giant, flexible fabric (like a stretched rubber sheet).\\n    *   If you place a heavy object (like a bowling ball) on this sheet, it creates a dip or curve.\\n    *   Now, if you roll a smaller object (like a marble) near the bowling ball, the marble won\\'t be \"pulled\" by a force; instead, it will roll *into the dip* created by the bowling ball.\\n    *   This \"rolling into the dip\" is what we perceive as gravity. Planets orbit the Sun not because the Sun is \"pulling\" them with a force, but because the Sun\\'s immense mass curves the spacetime around it, and the planets are simply following the curves in that spacetime.\\n\\n**Mind-Bending Consequences and Predictions of General Relativity:**\\n\\n*   **Gravitational Lensing:** Light bends when it passes near massive objects because spacetime itself is curved. This allows astronomers to see distant galaxies that would otherwise be hidden.\\n*   **Gravitational Time Dilation:** Time runs *slower* in stronger gravitational fields (i.e., closer to massive objects). This effect is small but crucial for technologies like GPS satellites, which have to account for it to remain accurate.\\n*   **Black Holes:** Regions of spacetime where gravity is so strong (due to an immense amount of mass concentrated in a tiny space) that nothing, not even light, can escape.\\n*   **Expansion of the Universe:** General Relativity provided the mathematical framework that allowed scientists to understand that the universe is expanding.\\n*   **Gravitational Waves:** Ripples in spacetime caused by extremely energetic cosmic events (like colliding black holes or neutron stars). These were predicted by Einstein and directly detected for the first time in 2015.\\n\\n---\\n\\n**In a nutshell:**\\n\\nThe Theory of Relativity revolutionized physics by showing that space and time are not absolute, fixed entities but are **relative** to the observer\\'s motion and the presence of mass/energy. It explained gravity not as a force, but as a distortion of the fabric of spacetime itself. It\\'s a cornerstone of modern physics and has been rigorously tested and confirmed by countless experiments and observations.'"
            ],
            "application/vnd.google.colaboratory.intrinsic+json": {
              "type": "string"
            }
          },
          "metadata": {},
          "execution_count": 39
        }
      ]
    },
    {
      "cell_type": "code",
      "source": [
        "# chatgpt using langchain\n",
        "!pip install langchain_google_genai"
      ],
      "metadata": {
        "colab": {
          "base_uri": "https://localhost:8080/",
          "height": 1000
        },
        "collapsed": true,
        "id": "2_pUf0Zb52VB",
        "outputId": "e0402c3c-6bad-444a-b09a-9ae3e017c129"
      },
      "execution_count": null,
      "outputs": [
        {
          "output_type": "stream",
          "name": "stdout",
          "text": [
            "Collecting langchain_google_genai\n",
            "  Downloading langchain_google_genai-2.1.8-py3-none-any.whl.metadata (7.0 kB)\n",
            "Collecting filetype<2.0.0,>=1.2.0 (from langchain_google_genai)\n",
            "  Downloading filetype-1.2.0-py2.py3-none-any.whl.metadata (6.5 kB)\n",
            "Collecting google-ai-generativelanguage<0.7.0,>=0.6.18 (from langchain_google_genai)\n",
            "  Downloading google_ai_generativelanguage-0.6.18-py3-none-any.whl.metadata (9.8 kB)\n",
            "Requirement already satisfied: langchain-core<0.4.0,>=0.3.68 in /usr/local/lib/python3.11/dist-packages (from langchain_google_genai) (0.3.68)\n",
            "Requirement already satisfied: pydantic<3,>=2 in /usr/local/lib/python3.11/dist-packages (from langchain_google_genai) (2.11.7)\n",
            "Requirement already satisfied: google-api-core!=2.0.*,!=2.1.*,!=2.10.*,!=2.2.*,!=2.3.*,!=2.4.*,!=2.5.*,!=2.6.*,!=2.7.*,!=2.8.*,!=2.9.*,<3.0.0,>=1.34.1 in /usr/local/lib/python3.11/dist-packages (from google-api-core[grpc]!=2.0.*,!=2.1.*,!=2.10.*,!=2.2.*,!=2.3.*,!=2.4.*,!=2.5.*,!=2.6.*,!=2.7.*,!=2.8.*,!=2.9.*,<3.0.0,>=1.34.1->google-ai-generativelanguage<0.7.0,>=0.6.18->langchain_google_genai) (2.25.1)\n",
            "Requirement already satisfied: google-auth!=2.24.0,!=2.25.0,<3.0.0,>=2.14.1 in /usr/local/lib/python3.11/dist-packages (from google-ai-generativelanguage<0.7.0,>=0.6.18->langchain_google_genai) (2.38.0)\n",
            "Requirement already satisfied: proto-plus<2.0.0,>=1.22.3 in /usr/local/lib/python3.11/dist-packages (from google-ai-generativelanguage<0.7.0,>=0.6.18->langchain_google_genai) (1.26.1)\n",
            "Requirement already satisfied: protobuf!=4.21.0,!=4.21.1,!=4.21.2,!=4.21.3,!=4.21.4,!=4.21.5,<7.0.0,>=3.20.2 in /usr/local/lib/python3.11/dist-packages (from google-ai-generativelanguage<0.7.0,>=0.6.18->langchain_google_genai) (5.29.5)\n",
            "Requirement already satisfied: langsmith>=0.3.45 in /usr/local/lib/python3.11/dist-packages (from langchain-core<0.4.0,>=0.3.68->langchain_google_genai) (0.4.5)\n",
            "Requirement already satisfied: tenacity!=8.4.0,<10.0.0,>=8.1.0 in /usr/local/lib/python3.11/dist-packages (from langchain-core<0.4.0,>=0.3.68->langchain_google_genai) (8.5.0)\n",
            "Requirement already satisfied: jsonpatch<2.0,>=1.33 in /usr/local/lib/python3.11/dist-packages (from langchain-core<0.4.0,>=0.3.68->langchain_google_genai) (1.33)\n",
            "Requirement already satisfied: PyYAML>=5.3 in /usr/local/lib/python3.11/dist-packages (from langchain-core<0.4.0,>=0.3.68->langchain_google_genai) (6.0.2)\n",
            "Requirement already satisfied: packaging<25,>=23.2 in /usr/local/lib/python3.11/dist-packages (from langchain-core<0.4.0,>=0.3.68->langchain_google_genai) (24.2)\n",
            "Requirement already satisfied: typing-extensions>=4.7 in /usr/local/lib/python3.11/dist-packages (from langchain-core<0.4.0,>=0.3.68->langchain_google_genai) (4.14.1)\n",
            "Requirement already satisfied: annotated-types>=0.6.0 in /usr/local/lib/python3.11/dist-packages (from pydantic<3,>=2->langchain_google_genai) (0.7.0)\n",
            "Requirement already satisfied: pydantic-core==2.33.2 in /usr/local/lib/python3.11/dist-packages (from pydantic<3,>=2->langchain_google_genai) (2.33.2)\n",
            "Requirement already satisfied: typing-inspection>=0.4.0 in /usr/local/lib/python3.11/dist-packages (from pydantic<3,>=2->langchain_google_genai) (0.4.1)\n",
            "Requirement already satisfied: googleapis-common-protos<2.0.0,>=1.56.2 in /usr/local/lib/python3.11/dist-packages (from google-api-core!=2.0.*,!=2.1.*,!=2.10.*,!=2.2.*,!=2.3.*,!=2.4.*,!=2.5.*,!=2.6.*,!=2.7.*,!=2.8.*,!=2.9.*,<3.0.0,>=1.34.1->google-api-core[grpc]!=2.0.*,!=2.1.*,!=2.10.*,!=2.2.*,!=2.3.*,!=2.4.*,!=2.5.*,!=2.6.*,!=2.7.*,!=2.8.*,!=2.9.*,<3.0.0,>=1.34.1->google-ai-generativelanguage<0.7.0,>=0.6.18->langchain_google_genai) (1.70.0)\n",
            "Requirement already satisfied: requests<3.0.0,>=2.18.0 in /usr/local/lib/python3.11/dist-packages (from google-api-core!=2.0.*,!=2.1.*,!=2.10.*,!=2.2.*,!=2.3.*,!=2.4.*,!=2.5.*,!=2.6.*,!=2.7.*,!=2.8.*,!=2.9.*,<3.0.0,>=1.34.1->google-api-core[grpc]!=2.0.*,!=2.1.*,!=2.10.*,!=2.2.*,!=2.3.*,!=2.4.*,!=2.5.*,!=2.6.*,!=2.7.*,!=2.8.*,!=2.9.*,<3.0.0,>=1.34.1->google-ai-generativelanguage<0.7.0,>=0.6.18->langchain_google_genai) (2.32.3)\n",
            "Requirement already satisfied: grpcio<2.0.0,>=1.33.2 in /usr/local/lib/python3.11/dist-packages (from google-api-core[grpc]!=2.0.*,!=2.1.*,!=2.10.*,!=2.2.*,!=2.3.*,!=2.4.*,!=2.5.*,!=2.6.*,!=2.7.*,!=2.8.*,!=2.9.*,<3.0.0,>=1.34.1->google-ai-generativelanguage<0.7.0,>=0.6.18->langchain_google_genai) (1.73.1)\n",
            "Requirement already satisfied: grpcio-status<2.0.0,>=1.33.2 in /usr/local/lib/python3.11/dist-packages (from google-api-core[grpc]!=2.0.*,!=2.1.*,!=2.10.*,!=2.2.*,!=2.3.*,!=2.4.*,!=2.5.*,!=2.6.*,!=2.7.*,!=2.8.*,!=2.9.*,<3.0.0,>=1.34.1->google-ai-generativelanguage<0.7.0,>=0.6.18->langchain_google_genai) (1.71.2)\n",
            "Requirement already satisfied: cachetools<6.0,>=2.0.0 in /usr/local/lib/python3.11/dist-packages (from google-auth!=2.24.0,!=2.25.0,<3.0.0,>=2.14.1->google-ai-generativelanguage<0.7.0,>=0.6.18->langchain_google_genai) (5.5.2)\n",
            "Requirement already satisfied: pyasn1-modules>=0.2.1 in /usr/local/lib/python3.11/dist-packages (from google-auth!=2.24.0,!=2.25.0,<3.0.0,>=2.14.1->google-ai-generativelanguage<0.7.0,>=0.6.18->langchain_google_genai) (0.4.2)\n",
            "Requirement already satisfied: rsa<5,>=3.1.4 in /usr/local/lib/python3.11/dist-packages (from google-auth!=2.24.0,!=2.25.0,<3.0.0,>=2.14.1->google-ai-generativelanguage<0.7.0,>=0.6.18->langchain_google_genai) (4.9.1)\n",
            "Requirement already satisfied: jsonpointer>=1.9 in /usr/local/lib/python3.11/dist-packages (from jsonpatch<2.0,>=1.33->langchain-core<0.4.0,>=0.3.68->langchain_google_genai) (3.0.0)\n",
            "Requirement already satisfied: httpx<1,>=0.23.0 in /usr/local/lib/python3.11/dist-packages (from langsmith>=0.3.45->langchain-core<0.4.0,>=0.3.68->langchain_google_genai) (0.28.1)\n",
            "Requirement already satisfied: orjson<4.0.0,>=3.9.14 in /usr/local/lib/python3.11/dist-packages (from langsmith>=0.3.45->langchain-core<0.4.0,>=0.3.68->langchain_google_genai) (3.10.18)\n",
            "Requirement already satisfied: requests-toolbelt<2.0.0,>=1.0.0 in /usr/local/lib/python3.11/dist-packages (from langsmith>=0.3.45->langchain-core<0.4.0,>=0.3.68->langchain_google_genai) (1.0.0)\n",
            "Requirement already satisfied: zstandard<0.24.0,>=0.23.0 in /usr/local/lib/python3.11/dist-packages (from langsmith>=0.3.45->langchain-core<0.4.0,>=0.3.68->langchain_google_genai) (0.23.0)\n",
            "Requirement already satisfied: anyio in /usr/local/lib/python3.11/dist-packages (from httpx<1,>=0.23.0->langsmith>=0.3.45->langchain-core<0.4.0,>=0.3.68->langchain_google_genai) (4.9.0)\n",
            "Requirement already satisfied: certifi in /usr/local/lib/python3.11/dist-packages (from httpx<1,>=0.23.0->langsmith>=0.3.45->langchain-core<0.4.0,>=0.3.68->langchain_google_genai) (2025.7.14)\n",
            "Requirement already satisfied: httpcore==1.* in /usr/local/lib/python3.11/dist-packages (from httpx<1,>=0.23.0->langsmith>=0.3.45->langchain-core<0.4.0,>=0.3.68->langchain_google_genai) (1.0.9)\n",
            "Requirement already satisfied: idna in /usr/local/lib/python3.11/dist-packages (from httpx<1,>=0.23.0->langsmith>=0.3.45->langchain-core<0.4.0,>=0.3.68->langchain_google_genai) (3.10)\n",
            "Requirement already satisfied: h11>=0.16 in /usr/local/lib/python3.11/dist-packages (from httpcore==1.*->httpx<1,>=0.23.0->langsmith>=0.3.45->langchain-core<0.4.0,>=0.3.68->langchain_google_genai) (0.16.0)\n",
            "Requirement already satisfied: pyasn1<0.7.0,>=0.6.1 in /usr/local/lib/python3.11/dist-packages (from pyasn1-modules>=0.2.1->google-auth!=2.24.0,!=2.25.0,<3.0.0,>=2.14.1->google-ai-generativelanguage<0.7.0,>=0.6.18->langchain_google_genai) (0.6.1)\n",
            "Requirement already satisfied: charset-normalizer<4,>=2 in /usr/local/lib/python3.11/dist-packages (from requests<3.0.0,>=2.18.0->google-api-core!=2.0.*,!=2.1.*,!=2.10.*,!=2.2.*,!=2.3.*,!=2.4.*,!=2.5.*,!=2.6.*,!=2.7.*,!=2.8.*,!=2.9.*,<3.0.0,>=1.34.1->google-api-core[grpc]!=2.0.*,!=2.1.*,!=2.10.*,!=2.2.*,!=2.3.*,!=2.4.*,!=2.5.*,!=2.6.*,!=2.7.*,!=2.8.*,!=2.9.*,<3.0.0,>=1.34.1->google-ai-generativelanguage<0.7.0,>=0.6.18->langchain_google_genai) (3.4.2)\n",
            "Requirement already satisfied: urllib3<3,>=1.21.1 in /usr/local/lib/python3.11/dist-packages (from requests<3.0.0,>=2.18.0->google-api-core!=2.0.*,!=2.1.*,!=2.10.*,!=2.2.*,!=2.3.*,!=2.4.*,!=2.5.*,!=2.6.*,!=2.7.*,!=2.8.*,!=2.9.*,<3.0.0,>=1.34.1->google-api-core[grpc]!=2.0.*,!=2.1.*,!=2.10.*,!=2.2.*,!=2.3.*,!=2.4.*,!=2.5.*,!=2.6.*,!=2.7.*,!=2.8.*,!=2.9.*,<3.0.0,>=1.34.1->google-ai-generativelanguage<0.7.0,>=0.6.18->langchain_google_genai) (2.4.0)\n",
            "Requirement already satisfied: sniffio>=1.1 in /usr/local/lib/python3.11/dist-packages (from anyio->httpx<1,>=0.23.0->langsmith>=0.3.45->langchain-core<0.4.0,>=0.3.68->langchain_google_genai) (1.3.1)\n",
            "Downloading langchain_google_genai-2.1.8-py3-none-any.whl (47 kB)\n",
            "\u001b[2K   \u001b[90m━━━━━━━━━━━━━━━━━━━━━━━━━━━━━━━━━━━━━━━━\u001b[0m \u001b[32m47.8/47.8 kB\u001b[0m \u001b[31m411.6 kB/s\u001b[0m eta \u001b[36m0:00:00\u001b[0m\n",
            "\u001b[?25hDownloading filetype-1.2.0-py2.py3-none-any.whl (19 kB)\n",
            "Downloading google_ai_generativelanguage-0.6.18-py3-none-any.whl (1.4 MB)\n",
            "\u001b[2K   \u001b[90m━━━━━━━━━━━━━━━━━━━━━━━━━━━━━━━━━━━━━━━━\u001b[0m \u001b[32m1.4/1.4 MB\u001b[0m \u001b[31m3.8 MB/s\u001b[0m eta \u001b[36m0:00:00\u001b[0m\n",
            "\u001b[?25hInstalling collected packages: filetype, google-ai-generativelanguage, langchain_google_genai\n",
            "  Attempting uninstall: google-ai-generativelanguage\n",
            "    Found existing installation: google-ai-generativelanguage 0.6.15\n",
            "    Uninstalling google-ai-generativelanguage-0.6.15:\n",
            "      Successfully uninstalled google-ai-generativelanguage-0.6.15\n",
            "\u001b[31mERROR: pip's dependency resolver does not currently take into account all the packages that are installed. This behaviour is the source of the following dependency conflicts.\n",
            "google-generativeai 0.8.5 requires google-ai-generativelanguage==0.6.15, but you have google-ai-generativelanguage 0.6.18 which is incompatible.\u001b[0m\u001b[31m\n",
            "\u001b[0mSuccessfully installed filetype-1.2.0 google-ai-generativelanguage-0.6.18 langchain_google_genai-2.1.8\n"
          ]
        },
        {
          "output_type": "display_data",
          "data": {
            "application/vnd.colab-display-data+json": {
              "pip_warning": {
                "packages": [
                  "google"
                ]
              },
              "id": "4e5669ea318b421d8a8c96721a7f2835"
            }
          },
          "metadata": {}
        }
      ]
    },
    {
      "cell_type": "code",
      "source": [
        "from langchain_google_genai import ChatGoogleGenerativeAI"
      ],
      "metadata": {
        "id": "ku7IJt4V7UU_"
      },
      "execution_count": null,
      "outputs": []
    },
    {
      "cell_type": "code",
      "source": [
        "llm = ChatGoogleGenerativeAI(model=\"gemini-2.5-flash\",api_key=api_key)"
      ],
      "metadata": {
        "id": "iOOi3yvk7fNT"
      },
      "execution_count": null,
      "outputs": []
    },
    {
      "cell_type": "code",
      "source": [
        "result = llm.invoke(\"Tell me a joke often used in south indian movies in nepali.\")\n",
        "result.content"
      ],
      "metadata": {
        "colab": {
          "base_uri": "https://localhost:8080/",
          "height": 104
        },
        "collapsed": true,
        "id": "Gg8CEJBn7o-p",
        "outputId": "3815116e-ea02-46a2-fe04-817fefe7a832"
      },
      "execution_count": null,
      "outputs": [
        {
          "output_type": "execute_result",
          "data": {
            "text/plain": [
              "'दक्षिण भारतीय चलचित्रहरूमा प्रायः हास्य चरित्रले बोल्ने वा परिस्थितिजन्य हास्य (situational comedy) मा आधारित ठट्टाहरू प्रयोग हुन्छन्। यस्ता ठट्टाहरूमा प्रायः:\\n\\n1.  **शब्दकोशको गलत अर्थ लगाउने (Misinterpretation of words),**\\n2.  **अङ्ग्रेजी शब्दहरूलाई गलत बुझ्ने (Misunderstanding English words),**\\n3.  **अतिशयोक्तिपूर्ण प्रतिक्रिया दिने (Exaggerated reactions),**\\n4.  **सामान्य कुरालाई जटिल बनाउने (Complicating simple things),**\\n5.  **वा शाब्दिक अर्थमा लिने (Taking things literally) **जस्ता शैलीहरू प्रयोग गरिन्छ।\\n\\nयहाँ दुईवटा त्यस्तै शैलीका ठट्टाहरू छन्, जुन नेपालीमा अनुवाद गरिएको छ र दक्षिण भारतीय चलचित्रको हास्यसँग मेल खान्छ:\\n\\n---\\n\\n**जोक १: (प्रविधि बुझ्न नसकेको हास्य)**\\n\\n**पात्र १ (युवा):** \"दाई, मेरो फोनमा ब्लुटुथ कनेक्ट भएन।\"\\n**(Dai, mero phone ma Bluetooth connect bhayena. - Brother, my phone\\'s Bluetooth isn\\'t connecting.)**\\n\\n**पात्र २ (गाउँले/बुढो, अलि अनौठो पाराले):** \"ब्लुटुथ? यो कस्तो दाँत हो? निलो दाँत भन्न खोजेको हो कि के हो? दाँतको कुरा अहिले किन गर्छस्?\"\\n**(Bluetooth? Yo kasto daant ho? Nilo daant bhanna khojeko ho ki ke ho? Daantko kura ahile kina garchas? - Bluetooth? What kind of tooth is this? Are you trying to say \\'blue tooth\\'? Why are you talking about teeth now?)**\\n\\n---\\n\\n**जोक २: (शाब्दिक अर्थ र मूर्खतापूर्ण तर्क)**\\n\\n**पात्र १ (अलि गम्भीर भएर):** \"यो संसारमा सबैभन्दा दुखी मान्छे को होला?\"\\n**(Yo sansar ma sabai bhanda dukhi manche ko hola? - Who do you think is the unhappiest person in this world?)**\\n\\n**पात्र २ (कमेडियनको शैलीमा):** \"जसको \\'गुड मर्निङ\\' भन्नुको सट्टा \\'गुड नाइट\\' भन्नुपर्छ!\"\\n**(Jasako \\'Good Morning\\' bhannuko satta \\'Good Night\\' bhannuparcha! - The one who has to say \\'Good Night\\' instead of \\'Good Morning\\'!)**\\n\\n**पात्र १:** \"के भनेको? कसले भन्नुपर्छ?\"\\n**(Ke bhneko? Kasle bhannuparcha? - What are you saying? Who has to say that?)**\\n\\n**पात्र २:** \"नर्सहरूले! बिहान बिरामीलाई सुताउन जाँदा \\'गुड नाइट\\' भन्नुपर्छ नि!\"\\n**(Nurses harule! Bihana birami lai sutaauna jaada \\'Good Night\\' bhannuparcha ni! - Nurses! When they go to make patients sleep in the morning, they have to say \\'Good Night\\'!)**\\n\\n---\\n\\n**यी ठट्टाहरू किन दक्षिण भारतीय शैलीका हुन्?**\\n\\n*   **गलत बुझाइ:** दुवै ठट्टामा शब्दको वा परिस्थितिको गलत बुझाइ छ। \\'ब्लुटुथ\\' लाई \\'निलो दाँत\\' बुझ्नु वा \\'गुड मर्निङ\\' को सट्टा \\'गुड नाइट\\' भन्नु पर्ने अवस्थालाई अनौठो तर्कले जोड्नु।\\n*   **अतिशयोक्ति र सरलता:** हास्यलाई सरल तरिकाले प्रस्तुत गरिएको छ, तर पात्रको प्रतिक्रिया वा तर्कमा अतिशयोक्ति छ।\\n*   **कमेडियन पात्र:** दक्षिण भारतीय चलचित्रहरूमा एउटा छुट्टै हास्य कलाकार (comedian) को भूमिका हुन्छ, जसले यस्ता अनौठा तर्कहरू वा प्रतिक्रियाहरू दिन्छन्।\\n*   **शाब्दिक अर्थ:** \\'ब्लुटुथ\\' लाई शाब्दिक रूपमा \\'निलो दाँत\\' बुझेजस्तै, धेरै कुराहरूलाई शाब्दिक अर्थमा लिएर हास्य सिर्जना गरिन्छ।\\n\\nयी ठट्टाहरूलाई सही \\'डेलिभरी\\' (बोल्ने शैली) र अनुहारको भाव (facial expressions) सहित प्रस्तुत गर्दा अझै हास्यास्पद लाग्छन्, जुन दक्षिण भारतीय चलचित्रको हास्यको मुख्य विशेषता हो।'"
            ],
            "application/vnd.google.colaboratory.intrinsic+json": {
              "type": "string"
            }
          },
          "metadata": {},
          "execution_count": 49
        }
      ]
    },
    {
      "cell_type": "code",
      "source": [
        "print(result.content)"
      ],
      "metadata": {
        "colab": {
          "base_uri": "https://localhost:8080/"
        },
        "collapsed": true,
        "id": "PqBfXZvi7zny",
        "outputId": "6d9c875a-e672-4f8d-876c-fe5a34c856ac"
      },
      "execution_count": null,
      "outputs": [
        {
          "output_type": "stream",
          "name": "stdout",
          "text": [
            "दक्षिण भारतीय चलचित्रहरूमा प्रायः हास्य चरित्रले बोल्ने वा परिस्थितिजन्य हास्य (situational comedy) मा आधारित ठट्टाहरू प्रयोग हुन्छन्। यस्ता ठट्टाहरूमा प्रायः:\n",
            "\n",
            "1.  **शब्दकोशको गलत अर्थ लगाउने (Misinterpretation of words),**\n",
            "2.  **अङ्ग्रेजी शब्दहरूलाई गलत बुझ्ने (Misunderstanding English words),**\n",
            "3.  **अतिशयोक्तिपूर्ण प्रतिक्रिया दिने (Exaggerated reactions),**\n",
            "4.  **सामान्य कुरालाई जटिल बनाउने (Complicating simple things),**\n",
            "5.  **वा शाब्दिक अर्थमा लिने (Taking things literally) **जस्ता शैलीहरू प्रयोग गरिन्छ।\n",
            "\n",
            "यहाँ दुईवटा त्यस्तै शैलीका ठट्टाहरू छन्, जुन नेपालीमा अनुवाद गरिएको छ र दक्षिण भारतीय चलचित्रको हास्यसँग मेल खान्छ:\n",
            "\n",
            "---\n",
            "\n",
            "**जोक १: (प्रविधि बुझ्न नसकेको हास्य)**\n",
            "\n",
            "**पात्र १ (युवा):** \"दाई, मेरो फोनमा ब्लुटुथ कनेक्ट भएन।\"\n",
            "**(Dai, mero phone ma Bluetooth connect bhayena. - Brother, my phone's Bluetooth isn't connecting.)**\n",
            "\n",
            "**पात्र २ (गाउँले/बुढो, अलि अनौठो पाराले):** \"ब्लुटुथ? यो कस्तो दाँत हो? निलो दाँत भन्न खोजेको हो कि के हो? दाँतको कुरा अहिले किन गर्छस्?\"\n",
            "**(Bluetooth? Yo kasto daant ho? Nilo daant bhanna khojeko ho ki ke ho? Daantko kura ahile kina garchas? - Bluetooth? What kind of tooth is this? Are you trying to say 'blue tooth'? Why are you talking about teeth now?)**\n",
            "\n",
            "---\n",
            "\n",
            "**जोक २: (शाब्दिक अर्थ र मूर्खतापूर्ण तर्क)**\n",
            "\n",
            "**पात्र १ (अलि गम्भीर भएर):** \"यो संसारमा सबैभन्दा दुखी मान्छे को होला?\"\n",
            "**(Yo sansar ma sabai bhanda dukhi manche ko hola? - Who do you think is the unhappiest person in this world?)**\n",
            "\n",
            "**पात्र २ (कमेडियनको शैलीमा):** \"जसको 'गुड मर्निङ' भन्नुको सट्टा 'गुड नाइट' भन्नुपर्छ!\"\n",
            "**(Jasako 'Good Morning' bhannuko satta 'Good Night' bhannuparcha! - The one who has to say 'Good Night' instead of 'Good Morning'!)**\n",
            "\n",
            "**पात्र १:** \"के भनेको? कसले भन्नुपर्छ?\"\n",
            "**(Ke bhneko? Kasle bhannuparcha? - What are you saying? Who has to say that?)**\n",
            "\n",
            "**पात्र २:** \"नर्सहरूले! बिहान बिरामीलाई सुताउन जाँदा 'गुड नाइट' भन्नुपर्छ नि!\"\n",
            "**(Nurses harule! Bihana birami lai sutaauna jaada 'Good Night' bhannuparcha ni! - Nurses! When they go to make patients sleep in the morning, they have to say 'Good Night'!)**\n",
            "\n",
            "---\n",
            "\n",
            "**यी ठट्टाहरू किन दक्षिण भारतीय शैलीका हुन्?**\n",
            "\n",
            "*   **गलत बुझाइ:** दुवै ठट्टामा शब्दको वा परिस्थितिको गलत बुझाइ छ। 'ब्लुटुथ' लाई 'निलो दाँत' बुझ्नु वा 'गुड मर्निङ' को सट्टा 'गुड नाइट' भन्नु पर्ने अवस्थालाई अनौठो तर्कले जोड्नु।\n",
            "*   **अतिशयोक्ति र सरलता:** हास्यलाई सरल तरिकाले प्रस्तुत गरिएको छ, तर पात्रको प्रतिक्रिया वा तर्कमा अतिशयोक्ति छ।\n",
            "*   **कमेडियन पात्र:** दक्षिण भारतीय चलचित्रहरूमा एउटा छुट्टै हास्य कलाकार (comedian) को भूमिका हुन्छ, जसले यस्ता अनौठा तर्कहरू वा प्रतिक्रियाहरू दिन्छन्।\n",
            "*   **शाब्दिक अर्थ:** 'ब्लुटुथ' लाई शाब्दिक रूपमा 'निलो दाँत' बुझेजस्तै, धेरै कुराहरूलाई शाब्दिक अर्थमा लिएर हास्य सिर्जना गरिन्छ।\n",
            "\n",
            "यी ठट्टाहरूलाई सही 'डेलिभरी' (बोल्ने शैली) र अनुहारको भाव (facial expressions) सहित प्रस्तुत गर्दा अझै हास्यास्पद लाग्छन्, जुन दक्षिण भारतीय चलचित्रको हास्यको मुख्य विशेषता हो।\n"
          ]
        }
      ]
    },
    {
      "cell_type": "code",
      "source": [
        "template_string = \"\"\"Translate the text \\\n",
        "that is delimited by triple backticks \\\n",
        "into a style that is {style}. \\\n",
        "text: ```{text}```\n",
        "\"\"\""
      ],
      "metadata": {
        "id": "Lt2rELYK8L7j"
      },
      "execution_count": null,
      "outputs": []
    },
    {
      "cell_type": "code",
      "source": [
        "from langchain.prompts import ChatPromptTemplate\n",
        "prompt_template = ChatPromptTemplate.from_template(template_string)\n"
      ],
      "metadata": {
        "id": "gmSdS52X9xbt"
      },
      "execution_count": null,
      "outputs": []
    },
    {
      "cell_type": "code",
      "source": [
        "prompt_template.messages[0].prompt"
      ],
      "metadata": {
        "colab": {
          "base_uri": "https://localhost:8080/"
        },
        "collapsed": true,
        "id": "8ScmuBrg-MO2",
        "outputId": "df295ca7-640f-4ad0-af5e-c346f212d36a"
      },
      "execution_count": null,
      "outputs": [
        {
          "output_type": "execute_result",
          "data": {
            "text/plain": [
              "PromptTemplate(input_variables=['style', 'text'], input_types={}, partial_variables={}, template='Translate the text that is delimited by triple backticks into a style that is {style}. text: ```{text}```\\n')"
            ]
          },
          "metadata": {},
          "execution_count": 63
        }
      ]
    },
    {
      "cell_type": "code",
      "source": [
        "customer_style = \"\"\"pure nepali \\\n",
        "in a calm and respectful tone\n",
        "\"\"\""
      ],
      "metadata": {
        "id": "3d6lsNcW-Q7m"
      },
      "execution_count": null,
      "outputs": []
    },
    {
      "cell_type": "code",
      "source": [
        "customer_email = \"\"\"welcome to GENAI tutorial \\\n",
        "class. This is day1.We are using Google gemini flash model\n",
        "\"\"\""
      ],
      "metadata": {
        "id": "HmMrJw9K-oIz"
      },
      "execution_count": null,
      "outputs": []
    },
    {
      "cell_type": "code",
      "source": [
        "service_style = \"\"\"a polite tone \\ that speaks in hindi\"\"\"\n",
        "service_reply = \"\"\"Hey ,The warrant does not cover cleaning\\\n",
        "expenses for your kitchen item. \"\"\""
      ],
      "metadata": {
        "id": "pbcExCEtAWI-"
      },
      "execution_count": null,
      "outputs": []
    },
    {
      "cell_type": "code",
      "source": [
        "customer_messages = prompt_template.format_messages(\n",
        "                    style=service_style,\n",
        "                    text=service_reply)"
      ],
      "metadata": {
        "id": "a3J5dbip-3nw"
      },
      "execution_count": null,
      "outputs": []
    },
    {
      "cell_type": "code",
      "source": [
        "print(customer_messages[0])"
      ],
      "metadata": {
        "colab": {
          "base_uri": "https://localhost:8080/"
        },
        "id": "dZ73oMFV-9W8",
        "outputId": "673a037a-d25f-4482-9154-3a06429a9a07"
      },
      "execution_count": null,
      "outputs": [
        {
          "output_type": "stream",
          "name": "stdout",
          "text": [
            "content='Translate the text that is delimited by triple backticks into a style that is a polite tone \\\\ that speaks in hindi. text: ```Hey ,The warrant does not cover cleaningexpenses for your kitchen item. ```\\n' additional_kwargs={} response_metadata={}\n"
          ]
        }
      ]
    },
    {
      "cell_type": "code",
      "source": [
        "# lets call LLM model to translate the style of the customer messages\n",
        "customer_response = llm.invoke(customer_messages)\n",
        "print(customer_response)"
      ],
      "metadata": {
        "colab": {
          "base_uri": "https://localhost:8080/"
        },
        "collapsed": true,
        "id": "DrK-QMzr_Dl6",
        "outputId": "e4c7a191-2fc2-4ae0-af7e-b725d97f59e8"
      },
      "execution_count": null,
      "outputs": [
        {
          "output_type": "stream",
          "name": "stdout",
          "text": [
            "content='Here are a few options, ranging from politely formal to slightly more direct but still respectful:\\n\\n**Option 1 (Politely Formal):**\\n\\n> महोदय/महोदया,\\n> हम आपको सूचित करना चाहेंगे कि आपके रसोई के उपकरण की साफ-सफाई का शुल्क हमारी वारंटी के अंतर्गत शामिल नहीं है।\\n>\\n> *(Mahoday/Mahodaya, Hum aapko suchit karna chahenge ki aapke rasoi ke upkaran ki saaf-safai ka shulk hamari warranty ke antargat shamil nahin hai.)*\\n>\\n> *Meaning: Sir/Madam, We would like to inform you that the cleaning charges for your kitchen appliance are not included under our warranty.*\\n\\n**Option 2 (Concise and Polite):**\\n\\n> क्षमा करें, आपके रसोई के सामान की सफाई का खर्च वारंटी के दायरे में नहीं आता है।\\n>\\n> *(Kshama karein, aapke rasoi ke saamaan ki safai ka kharch warranty ke daayre mein nahin aata hai.)*\\n>\\n> *Meaning: Excuse me, the cleaning expenses for your kitchen item do not come within the scope of the warranty.*\\n\\n**Option 3 (Slightly more direct, but still respectful):**\\n\\n> कृपया ध्यान दें कि आपके रसोई के उपकरण की साफ-सफाई का शुल्क वारंटी में शामिल नहीं है।\\n>\\n> *(Kripya dhyaan dein ki aapke rasoi ke upkaran ki saaf-safai ka shulk warranty mein shamil nahin hai.)*\\n>\\n> *Meaning: Please note that the cleaning charges for your kitchen appliance are not included in the warranty.*\\n\\nChoose the one that best fits the specific context and the level of formality you wish to convey. Option 2 is often a good balance for a polite refusal.' additional_kwargs={} response_metadata={'prompt_feedback': {'block_reason': 0, 'safety_ratings': []}, 'finish_reason': 'STOP', 'model_name': 'gemini-2.5-flash', 'safety_ratings': []} id='run--36afb476-047d-4508-b2d6-117bccbc1c66-0'\n"
          ]
        }
      ]
    },
    {
      "cell_type": "code",
      "source": [
        "print(customer_response.content)"
      ],
      "metadata": {
        "colab": {
          "base_uri": "https://localhost:8080/"
        },
        "id": "pG5hsvSq_oak",
        "outputId": "8d9acd37-8a37-472d-e30d-b86b9b426ac7"
      },
      "execution_count": null,
      "outputs": [
        {
          "output_type": "stream",
          "name": "stdout",
          "text": [
            "Here are a few options, ranging from politely formal to slightly more direct but still respectful:\n",
            "\n",
            "**Option 1 (Politely Formal):**\n",
            "\n",
            "> महोदय/महोदया,\n",
            "> हम आपको सूचित करना चाहेंगे कि आपके रसोई के उपकरण की साफ-सफाई का शुल्क हमारी वारंटी के अंतर्गत शामिल नहीं है।\n",
            ">\n",
            "> *(Mahoday/Mahodaya, Hum aapko suchit karna chahenge ki aapke rasoi ke upkaran ki saaf-safai ka shulk hamari warranty ke antargat shamil nahin hai.)*\n",
            ">\n",
            "> *Meaning: Sir/Madam, We would like to inform you that the cleaning charges for your kitchen appliance are not included under our warranty.*\n",
            "\n",
            "**Option 2 (Concise and Polite):**\n",
            "\n",
            "> क्षमा करें, आपके रसोई के सामान की सफाई का खर्च वारंटी के दायरे में नहीं आता है।\n",
            ">\n",
            "> *(Kshama karein, aapke rasoi ke saamaan ki safai ka kharch warranty ke daayre mein nahin aata hai.)*\n",
            ">\n",
            "> *Meaning: Excuse me, the cleaning expenses for your kitchen item do not come within the scope of the warranty.*\n",
            "\n",
            "**Option 3 (Slightly more direct, but still respectful):**\n",
            "\n",
            "> कृपया ध्यान दें कि आपके रसोई के उपकरण की साफ-सफाई का शुल्क वारंटी में शामिल नहीं है।\n",
            ">\n",
            "> *(Kripya dhyaan dein ki aapke rasoi ke upkaran ki saaf-safai ka shulk warranty mein shamil nahin hai.)*\n",
            ">\n",
            "> *Meaning: Please note that the cleaning charges for your kitchen appliance are not included in the warranty.*\n",
            "\n",
            "Choose the one that best fits the specific context and the level of formality you wish to convey. Option 2 is often a good balance for a polite refusal.\n"
          ]
        }
      ]
    },
    {
      "cell_type": "code",
      "source": [],
      "metadata": {
        "id": "r25BJhNn_t4V"
      },
      "execution_count": null,
      "outputs": []
    }
  ]
}